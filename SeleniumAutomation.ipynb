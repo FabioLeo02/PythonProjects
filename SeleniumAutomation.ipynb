{
 "cells": [
  {
   "cell_type": "code",
   "execution_count": 13,
   "metadata": {},
   "outputs": [],
   "source": [
    "import pandas as pd\n",
    "from selenium import webdriver\n",
    "from selenium.webdriver.chrome.service import Service\n",
    "from selenium.webdriver.common.by import By\n",
    "import re"
   ]
  },
  {
   "cell_type": "code",
   "execution_count": 14,
   "metadata": {},
   "outputs": [],
   "source": [
    "service = Service()\n",
    "options = webdriver.ChromeOptions()\n",
    "driver = webdriver.Chrome(service=service, options=options)"
   ]
  },
  {
   "cell_type": "code",
   "execution_count": 15,
   "metadata": {},
   "outputs": [],
   "source": [
    "url = \"https://transparencia.ma.gov.br/app/v2/pessoal/remuneracao?ano=2023&mes=9&tipo_busca=unidade&ug=SEDUC&page=1#result_list\"\n",
    "driver.get(url)"
   ]
  },
  {
   "cell_type": "code",
   "execution_count": 16,
   "metadata": {},
   "outputs": [
    {
     "name": "stdout",
     "output_type": "stream",
     "text": [
      "Nome: ABADIANA SOBRINHO SILVA, Matrícula: 298561\n",
      "Nome: ABAIAO SALUSTRIANO DA SILVA, Matrícula: 864662\n",
      "Nome: ABDIAS DE OLIVEIRA FARIAS NETO, Matrícula: 877956\n",
      "Nome: ABDIAS DE SOUSA GUAJAJARA, Matrícula: 165883\n",
      "Nome: ABEDENEGO DOS SANTOS RIBEIRO, Matrícula: 139158\n",
      "Nome: ABELARDO JOSE GAMA DA SILVA, Matrícula: 288914\n",
      "Nome: ABELARDO SOARES TELES DE SOUZA, Matrícula: 853431\n",
      "Nome: ABEL PAULO DA SILVA, Matrícula: 798043\n",
      "Nome: ABEL PAULO DA SILVA, Matrícula: 798043\n",
      "Nome: ABEL PEREIRA MARINHO NETO, Matrícula: 137136\n"
     ]
    }
   ],
   "source": [
    "'''elements = driver.find_elements(By.CSS_SELECTOR,'.tabelaJornada4 td a')\n",
    "for e in elements:\n",
    "    print(e.text)'''\n",
    "\n",
    "elements = driver.find_elements(By.CSS_SELECTOR, '.tabelaJornada4 td a')\n",
    "for e in elements:\n",
    "    # Obtém o atributo href\n",
    "    href = e.get_attribute('href')\n",
    "    \n",
    "    # Usando expressões regulares para extrair o nome e o número da matrícula\n",
    "    match = re.search(r\"matricula=(\\d+)-\\d+&\", href)\n",
    "    if match:\n",
    "        matricula = match.group(1)\n",
    "        nome = e.text.strip()\n",
    "        print(f\"Nome: {nome}, Matrícula: {matricula}\")\n"
   ]
  }
 ],
 "metadata": {
  "kernelspec": {
   "display_name": "Python 3",
   "language": "python",
   "name": "python3"
  },
  "language_info": {
   "codemirror_mode": {
    "name": "ipython",
    "version": 3
   },
   "file_extension": ".py",
   "mimetype": "text/x-python",
   "name": "python",
   "nbconvert_exporter": "python",
   "pygments_lexer": "ipython3",
   "version": "3.12.0"
  }
 },
 "nbformat": 4,
 "nbformat_minor": 2
}
