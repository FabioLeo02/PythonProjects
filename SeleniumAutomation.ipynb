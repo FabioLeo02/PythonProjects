{
 "cells": [
  {
   "cell_type": "code",
   "execution_count": 22,
   "metadata": {},
   "outputs": [],
   "source": [
    "import pandas as pd\n",
    "from selenium import webdriver\n",
    "from selenium.webdriver.chrome.service import Service\n",
    "from selenium.webdriver.common.by import By"
   ]
  },
  {
   "cell_type": "code",
   "execution_count": 23,
   "metadata": {},
   "outputs": [],
   "source": [
    "service = Service()\n",
    "options = webdriver.ChromeOptions()\n",
    "driver = webdriver.Chrome(service=service, options=options)"
   ]
  },
  {
   "cell_type": "code",
   "execution_count": 24,
   "metadata": {},
   "outputs": [],
   "source": [
    "url = \"https://transparencia.ma.gov.br/app/v2/pessoal/remuneracao?ano=2023&mes=9&tipo_busca=unidade&ug=SEDUC&page=1#result_list\"\n",
    "driver.get(url)"
   ]
  },
  {
   "cell_type": "code",
   "execution_count": 34,
   "metadata": {},
   "outputs": [
    {
     "name": "stdout",
     "output_type": "stream",
     "text": [
      "ABADIANA SOBRINHO SILVA\n",
      "ABAIAO SALUSTRIANO DA SILVA\n",
      "ABDIAS DE OLIVEIRA FARIAS NETO\n",
      "ABDIAS DE SOUSA GUAJAJARA\n",
      "ABEDENEGO DOS SANTOS RIBEIRO\n",
      "ABELARDO JOSE GAMA DA SILVA\n",
      "ABELARDO SOARES TELES DE SOUZA\n",
      "ABEL PAULO DA SILVA\n",
      "ABEL PAULO DA SILVA\n",
      "ABEL PEREIRA MARINHO NETO\n"
     ]
    }
   ],
   "source": [
    "elements = driver.find_elements(By.CSS_SELECTOR,'.tabelaJornada4 td a')\n",
    "for e in elements:\n",
    "    print(e.text)\n"
   ]
  }
 ],
 "metadata": {
  "kernelspec": {
   "display_name": "Python 3",
   "language": "python",
   "name": "python3"
  },
  "language_info": {
   "codemirror_mode": {
    "name": "ipython",
    "version": 3
   },
   "file_extension": ".py",
   "mimetype": "text/x-python",
   "name": "python",
   "nbconvert_exporter": "python",
   "pygments_lexer": "ipython3",
   "version": "3.12.0"
  }
 },
 "nbformat": 4,
 "nbformat_minor": 2
}
